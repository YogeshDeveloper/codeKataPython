{
 "cells": [
  {
   "cell_type": "code",
   "execution_count": 1,
   "metadata": {},
   "outputs": [
    {
     "name": "stdout",
     "output_type": "stream",
     "text": [
      "Enter the number: 5\n",
      "Positive\n"
     ]
    }
   ],
   "source": [
    "#1.Check whether a number is a zero or positive or negative\n",
    "n=int(input(\"Enter the number: \"))\n",
    "if(n==0):\n",
    "    print(\"Zero\")\n",
    "elif (n>0):\n",
    "    print(\"Positive\")\n",
    "elif (n<0):\n",
    "    print(\"Negative\")\n",
    "else: \n",
    "    print(\"Invalid Input\")"
   ]
  },
  {
   "cell_type": "code",
   "execution_count": 2,
   "metadata": {},
   "outputs": [
    {
     "name": "stdout",
     "output_type": "stream",
     "text": [
      "Enter the number: -5\n",
      "Odd\n"
     ]
    }
   ],
   "source": [
    "#2.Check whether a number is even or odd\n",
    "n=int(input(\"Enter the number: \"))\n",
    "if(n>0):\n",
    "    print(\"Even\")\n",
    "elif(n<0):\n",
    "    print(\"Odd\")"
   ]
  },
  {
   "cell_type": "code",
   "execution_count": 5,
   "metadata": {},
   "outputs": [
    {
     "name": "stdout",
     "output_type": "stream",
     "text": [
      "Enter a character: e\n",
      "Vowel\n"
     ]
    }
   ],
   "source": [
    "#3.Check whether a character is a vowel or consonant\n",
    "n=input(\"Enter a character: \")\n",
    "n=n.lower()\n",
    "vowels=['a','e','i','o','u']\n",
    "if n in vowels:\n",
    "    print(\"Vowel\")\n",
    "elif n not in vowels:\n",
    "    print(\"Consonant\")\n",
    "else:\n",
    "    print(\"Invalid Input\")"
   ]
  },
  {
   "cell_type": "code",
   "execution_count": 6,
   "metadata": {},
   "outputs": [
    {
     "name": "stdout",
     "output_type": "stream",
     "text": [
      "Enter the Alphabet: b\n",
      "Alphabet\n"
     ]
    }
   ],
   "source": [
    "#4.Check whether a character is in alphabet or not\n",
    "n=input('Enter the Alphabet: ')\n",
    "n=n.lower()\n",
    "if (n>='a' and n<='z'):\n",
    "    print ('Alphabet')\n",
    "else:\n",
    "    print('No')    "
   ]
  },
  {
   "cell_type": "code",
   "execution_count": 7,
   "metadata": {},
   "outputs": [
    {
     "name": "stdout",
     "output_type": "stream",
     "text": [
      "Enter Number 1: 5\n",
      "Enter Number 2: 9\n",
      "Enter Number 3: 8\n",
      "9\n"
     ]
    }
   ],
   "source": [
    "#5.Find the largest among three numbers\n",
    "\n",
    "a=int(input('Enter Number 1: '))\n",
    "b=int(input('Enter Number 2: '))\n",
    "c=int(input('Enter Number 3: '))\n",
    "\n",
    "if(a>b and a>c):\n",
    "    print(a)\n",
    "elif (b>a and b>c):\n",
    "    print(b)\n",
    "else:\n",
    "    print(c)   "
   ]
  },
  {
   "cell_type": "code",
   "execution_count": 8,
   "metadata": {},
   "outputs": [
    {
     "name": "stdout",
     "output_type": "stream",
     "text": [
      "Enter the year: 2016\n",
      "yes\n"
     ]
    }
   ],
   "source": [
    "#6.Check whether a year is a leap year or not\n",
    "n=int(input(\"Enter the year: \"))\n",
    "if(n%4 == 0 and n%400!=0 and n%100!=0):\n",
    "     print ('yes')\n",
    "else:\n",
    "     print ('No')"
   ]
  },
  {
   "cell_type": "code",
   "execution_count": 10,
   "metadata": {},
   "outputs": [
    {
     "name": "stdout",
     "output_type": "stream",
     "text": [
      "Enter Number: 5\n",
      "Hello\n",
      "\n",
      "Hello\n",
      "\n",
      "Hello\n",
      "\n",
      "Hello\n",
      "\n",
      "Hello\n",
      "\n",
      "\n"
     ]
    }
   ],
   "source": [
    "#7.Write a program to print \"Hello\" N times:\n",
    "n=int(input(\"Enter Number: \"))\n",
    "print(n*'Hello\\n\\n')"
   ]
  },
  {
   "cell_type": "code",
   "execution_count": 11,
   "metadata": {},
   "outputs": [
    {
     "name": "stdout",
     "output_type": "stream",
     "text": [
      "Enter a Number: 5\n",
      "15\n"
     ]
    }
   ],
   "source": [
    "#8.Sum of natural numbers upto 'N'\n",
    "n=int(input(\"Enter a Number: \"))\n",
    "if(n<0):\n",
    "    print(\"Enter a Positive Number!\")\n",
    "else:\n",
    "    sum=0\n",
    "    while(n>0):\n",
    "        sum=sum+n\n",
    "        n=n-1\n",
    "        #print(n)\n",
    "        #print(sum)\n",
    "print(sum)      "
   ]
  },
  {
   "cell_type": "code",
   "execution_count": 12,
   "metadata": {},
   "outputs": [],
   "source": [
    "#9.Given 2 numbers N,K and an array of N integers, find the sum of first \"K\" integers\n"
   ]
  },
  {
   "cell_type": "code",
   "execution_count": 15,
   "metadata": {},
   "outputs": [
    {
     "name": "stdout",
     "output_type": "stream",
     "text": [
      "Enter number:5612\n",
      "The number of digits in the number are: 4\n"
     ]
    }
   ],
   "source": [
    "#10.Count the digits of an integer\n",
    "\n",
    "n=int(input(\"Enter number:\"))\n",
    "count=0\n",
    "while(n>0):\n",
    "    count=count+1\n",
    "    n=n//10\n",
    "print(\"The number of digits in the number are:\",count)"
   ]
  },
  {
   "cell_type": "code",
   "execution_count": null,
   "metadata": {},
   "outputs": [],
   "source": []
  }
 ],
 "metadata": {
  "kernelspec": {
   "display_name": "Python 3",
   "language": "python",
   "name": "python3"
  },
  "language_info": {
   "codemirror_mode": {
    "name": "ipython",
    "version": 3
   },
   "file_extension": ".py",
   "mimetype": "text/x-python",
   "name": "python",
   "nbconvert_exporter": "python",
   "pygments_lexer": "ipython3",
   "version": "3.7.0"
  }
 },
 "nbformat": 4,
 "nbformat_minor": 2
}
