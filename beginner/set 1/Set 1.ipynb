{
 "cells": [
  {
   "cell_type": "code",
   "execution_count": 1,
   "metadata": {},
   "outputs": [
    {
     "name": "stdout",
     "output_type": "stream",
     "text": [
      "Enter the number: 5\n",
      "Positive\n"
     ]
    }
   ],
   "source": [
    "#Check whether a number is a zero or positive or negative\n",
    "n=int(input(\"Enter the number: \"))\n",
    "if(n==0):\n",
    "    print(\"Zero\")\n",
    "elif (n>0):\n",
    "    print(\"Positive\")\n",
    "elif (n<0):\n",
    "    print(\"Negative\")\n",
    "else: \n",
    "    print(\"Invalid Input\")"
   ]
  },
  {
   "cell_type": "code",
   "execution_count": 2,
   "metadata": {},
   "outputs": [
    {
     "name": "stdout",
     "output_type": "stream",
     "text": [
      "Enter the number: -5\n",
      "Odd\n"
     ]
    }
   ],
   "source": [
    "#Check whether a number is even or odd\n",
    "n=int(input(\"Enter the number: \"))\n",
    "if(n>0):\n",
    "    print(\"Even\")\n",
    "elif(n<0):\n",
    "    print(\"Odd\")"
   ]
  },
  {
   "cell_type": "code",
   "execution_count": 4,
   "metadata": {},
   "outputs": [
    {
     "name": "stdout",
     "output_type": "stream",
     "text": [
      "Enter a character: g\n"
     ]
    },
    {
     "data": {
      "text/plain": [
       "'g'"
      ]
     },
     "execution_count": 4,
     "metadata": {},
     "output_type": "execute_result"
    }
   ],
   "source": [
    "#Check whether a character is a vowel or consonant\n",
    "n=input(\"Enter a character: \")\n",
    "n=n.lower()\n",
    "vowels=['a','e','i','o','u']\n",
    "if n in vowels:\n",
    "    print(\"Vowel\")\n",
    "elif n not in vowels:\n",
    "    print(\"Consonant\")\n",
    "else:\n",
    "    print(\"Invalid Inp\")"
   ]
  },
  {
   "cell_type": "code",
   "execution_count": null,
   "metadata": {},
   "outputs": [],
   "source": []
  }
 ],
 "metadata": {
  "kernelspec": {
   "display_name": "Python 3",
   "language": "python",
   "name": "python3"
  },
  "language_info": {
   "codemirror_mode": {
    "name": "ipython",
    "version": 3
   },
   "file_extension": ".py",
   "mimetype": "text/x-python",
   "name": "python",
   "nbconvert_exporter": "python",
   "pygments_lexer": "ipython3",
   "version": "3.7.0"
  }
 },
 "nbformat": 4,
 "nbformat_minor": 2
}
